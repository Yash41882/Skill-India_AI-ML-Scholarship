{
 "cells": [
  {
   "cell_type": "markdown",
   "metadata": {},
   "source": [
    "# Purchasing and Sales Generated"
   ]
  },
  {
   "cell_type": "markdown",
   "metadata": {},
   "source": [
    "## Reading Data from Inventory"
   ]
  },
  {
   "cell_type": "code",
   "execution_count": null,
   "metadata": {},
   "outputs": [],
   "source": [
    "import json\n",
    "\n",
    "file = open(\"records.json\",'r')\n",
    "data = file.read()\n",
    "file.close()\n",
    "\n",
    "records = json.loads(data)"
   ]
  },
  {
   "cell_type": "code",
   "execution_count": null,
   "metadata": {},
   "outputs": [],
   "source": [
    "records"
   ]
  },
  {
   "cell_type": "markdown",
   "metadata": {},
   "source": [
    "## Purchasing a Product"
   ]
  },
  {
   "cell_type": "code",
   "execution_count": null,
   "metadata": {},
   "outputs": [],
   "source": [
    "user_prod_id  = str(input(\"Enter the Product Id: \"))\n",
    "user_quantity = int(input(\"Enter the Quantity: \"))\n"
   ]
  },
  {
   "cell_type": "code",
   "execution_count": null,
   "metadata": {},
   "outputs": [],
   "source": [
    "for i in records:\n",
    "    product = i.split(\",\")\n",
    "    if(records[0] == user_prod_id):\n",
    "        if (user_quantity <= records[user_prod_id]['Quantity'])\n",
    "            print(\"***********************\")\n",
    "            print(\"Product ID: \",user_prod_id)\n",
    "            print(\"Name: \", records[user_prod_id]['Name'])\n",
    "            print(\"Flavour: \", records[user_prod_id]['Flavour'])\n",
    "            print(\"Price: \",records[user_prod_id]['Price'])\n",
    "            print(\"Quantity: \",records[user_prod_id]['Quantity'])\n",
    "            print(\"Importer: \", records[user_prod_id]['Importer'])\n",
    "            print(\"------------------------\")\n",
    "            amount = user_quantity * records[user_prod_id]['Price'];\n",
    "            print(\"Billing Amount: \", amount)\n",
    "            if(amount > 5000):\n",
    "                amount = amount - (amount * 0.2)\n",
    "                print(\"Discount Applied 20% for purchase over INR 5000\")\n",
    "                print(\"Net Billing Amount: \", amount)\n",
    "        else\n",
    "            print(\"Sorry! But we dont have Insufficent Quantity, We have \", records[user_prod_id][;'Quantity'],\" items in out stock\")\n",
    "    else \n",
    "        print(\"Invalid Product Id! Please Try Again!\")\n",
    "        print(\"***********************\")"
   ]
  },
  {
   "cell_type": "markdown",
   "metadata": {},
   "source": [
    "## Updating Inventory"
   ]
  },
  {
   "cell_type": "code",
   "execution_count": null,
   "metadata": {},
   "outputs": [],
   "source": [
    "new_record = []\n",
    "\n",
    "for i in records:\n",
    "    prod_id = i.split(\",\")\n",
    "    if(user_prod_id == records[user_prod_id]):\n",
    "        records[user_prod_id]['Quantity'] = records[user_prod_id]['Quantity'] - ui_quant\n",
    "        \n",
    "    new_record.append([user_prod_id]['Quantity'] + \",\" + [user_prod_id]['Name'] + \",\" + [user_prod_id]['Flavour'] + \",\" + [user_prod_id]['Price'] + \",\" + [user_prod_id]['Quantity'] \",\" + [user_prod_id]['Importer']\"\\n\")\n",
    "    \n",
    "new_record[-1] = new_record[-1][:-1]"
   ]
  },
  {
   "cell_type": "code",
   "execution_count": null,
   "metadata": {},
   "outputs": [],
   "source": [
    "js = json.dumps(new_records)\n",
    "\n",
    "fd = open(\"record.json\",'w')\n",
    "fd.write(js)\n",
    "fd.close()"
   ]
  },
  {
   "cell_type": "markdown",
   "metadata": {},
   "source": [
    "## Sales Generated"
   ]
  },
  {
   "cell_type": "code",
   "execution_count": null,
   "metadata": {},
   "outputs": [],
   "source": [
    "sales = {1 : {'prod_id' : user_prod_id, 'Quantity' : ui_quant, 'amount': records[user_prod_id]['Price'] * user_quantity},\n",
    "         2 : {'prod_id' : user_prod_id, 'Quantity' : ui_quant, 'amount': records[user_prod_id]['Price'] * user_quantity},\n",
    "         3 : {'prod_id' : user_prod_id, 'Quantity' : ui_quant, 'amount': records[user_prod_id]['Price'] * user_quantity}}"
   ]
  },
  {
   "cell_type": "code",
   "execution_count": null,
   "metadata": {},
   "outputs": [],
   "source": [
    "sale = json.dumps(sales)"
   ]
  },
  {
   "cell_type": "code",
   "execution_count": null,
   "metadata": {},
   "outputs": [],
   "source": []
  }
 ],
 "metadata": {
  "kernelspec": {
   "display_name": "Python 3",
   "language": "python",
   "name": "python3"
  },
  "language_info": {
   "codemirror_mode": {
    "name": "ipython",
    "version": 3
   },
   "file_extension": ".py",
   "mimetype": "text/x-python",
   "name": "python",
   "nbconvert_exporter": "python",
   "pygments_lexer": "ipython3",
   "version": "3.8.5"
  }
 },
 "nbformat": 4,
 "nbformat_minor": 4
}
