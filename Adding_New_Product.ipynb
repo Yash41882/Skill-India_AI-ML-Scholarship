{
 "cells": [
  {
   "cell_type": "markdown",
   "metadata": {},
   "source": [
    "# ADDING NEW PRODUCT TO THE INVENTORY"
   ]
  },
  {
   "cell_type": "code",
   "execution_count": 1,
   "metadata": {},
   "outputs": [],
   "source": [
    "file = open (\"records.json\",\"r\")"
   ]
  },
  {
   "cell_type": "code",
   "execution_count": 2,
   "metadata": {},
   "outputs": [],
   "source": [
    "data = file.read()"
   ]
  },
  {
   "cell_type": "code",
   "execution_count": 3,
   "metadata": {},
   "outputs": [],
   "source": [
    "file.close()"
   ]
  },
  {
   "cell_type": "markdown",
   "metadata": {},
   "source": [
    "## Importing JSON Module"
   ]
  },
  {
   "cell_type": "code",
   "execution_count": 4,
   "metadata": {},
   "outputs": [],
   "source": [
    "import json"
   ]
  },
  {
   "cell_type": "markdown",
   "metadata": {},
   "source": [
    "## Converts String to Dictonary\n"
   ]
  },
  {
   "cell_type": "code",
   "execution_count": 5,
   "metadata": {},
   "outputs": [],
   "source": [
    "records = json.loads(data)"
   ]
  },
  {
   "cell_type": "code",
   "execution_count": 6,
   "metadata": {},
   "outputs": [
    {
     "data": {
      "text/plain": [
       "{'1': {'Name': 'ONN Whey Protein',\n",
       "  'Flavour': 'Rich Double Chocolate',\n",
       "  'Price': 6000,\n",
       "  'Quantity': 500,\n",
       "  'Importer': 'Bright Commodities'},\n",
       " '2': {'Name': 'MB Whey Protein',\n",
       "  'Flavour': 'Chocolate Creame',\n",
       "  'Price': 4000,\n",
       "  'Quantity': 1000,\n",
       "  'Importer': 'GMC'},\n",
       " '3': {'Name': 'UN Whey Protein',\n",
       "  'Flavour': 'Rich Vanilla',\n",
       "  'Price': 5000,\n",
       "  'Quantity': 700,\n",
       "  'Importer': 'Ariana'},\n",
       " '4': {'Name': 'RC Whey Protein',\n",
       "  'Flavour': 'Double Chocolate',\n",
       "  'Price': 7000,\n",
       "  'Quantity': 400,\n",
       "  'Importer': 'Bright Commodities'},\n",
       " '5': {'Name': 'Universal Whey Protein',\n",
       "  'Flavour': 'Juicy Watermelon',\n",
       "  'Price': 6500,\n",
       "  'Quantity': 350,\n",
       "  'Importer': 'GMC Commodities'},\n",
       " '6': {'Name': 'MY Protein Whey Protein',\n",
       "  'Flavour': 'Unflavoured',\n",
       "  'Price': 3200,\n",
       "  'Quantity': 670,\n",
       "  'Importer': 'Ariana Commodities'},\n",
       " '7': {'Name': 'Isopure Whey Protein',\n",
       "  'Flavour': 'Tangy Mango',\n",
       "  'Price': 6000,\n",
       "  'Quantity': 400,\n",
       "  'Importer': 'Bright Commodities'},\n",
       " '8': {'Name': 'Zomato Whey Protein',\n",
       "  'Flavour': 'Juicy Watermelon',\n",
       "  'Price': 5500,\n",
       "  'Quantity': 350,\n",
       "  'Importer': 'GMC Commodities'},\n",
       " '9': {'Name': 'Labrada Whey Protein',\n",
       "  'Flavour': 'Pulpy Orange',\n",
       "  'Price': 4800,\n",
       "  'Quantity': 670,\n",
       "  'Importer': 'Ariana Commodities'},\n",
       " '10': {'Name': 'One Science Whey Protein',\n",
       "  'Flavour': 'Double Chocolate',\n",
       "  'Price': 3000,\n",
       "  'Quantity': 400,\n",
       "  'Importer': 'Bright Commodities'},\n",
       " '11': {'Name': 'ONN Creatine',\n",
       "  'Flavour': 'Juicy Watermelon',\n",
       "  'Price': 3400,\n",
       "  'Quantity': 350,\n",
       "  'Importer': 'GMC Commodities'},\n",
       " '12': {'Name': 'MB Creatine',\n",
       "  'Flavour': 'Unflavoured',\n",
       "  'Price': 800,\n",
       "  'Quantity': 670,\n",
       "  'Importer': 'Ariana Commodities'},\n",
       " '13': {'Name': 'UN Creatine',\n",
       "  'Flavour': 'Tangy Mango',\n",
       "  'Price': 600,\n",
       "  'Quantity': 500,\n",
       "  'Importer': 'Bright Commodities'},\n",
       " '14': {'Name': 'RC Creatine',\n",
       "  'Flavour': 'Chocolate Creame',\n",
       "  'Price': 1200,\n",
       "  'Quantity': 1000,\n",
       "  'Importer': 'GMC'},\n",
       " '15': {'Name': 'Universal Creatine',\n",
       "  'Flavour': 'Rich Vanilla',\n",
       "  'Price': 1500,\n",
       "  'Quantity': 700,\n",
       "  'Importer': 'Ariana'},\n",
       " '16': {'Name': 'MY Protein Creatine',\n",
       "  'Flavour': 'Pulpy Orange',\n",
       "  'Price': 1499,\n",
       "  'Quantity': 400,\n",
       "  'Importer': 'Bright Commodities'},\n",
       " '17': {'Name': 'Isopure Creatine',\n",
       "  'Flavour': 'Juicy Watermelon',\n",
       "  'Price': 1500,\n",
       "  'Quantity': 350,\n",
       "  'Importer': 'GMC Commodities'},\n",
       " '18': {'Name': 'Zomato Creatine',\n",
       "  'Flavour': 'Unflavoured',\n",
       "  'Price': 700,\n",
       "  'Quantity': 670,\n",
       "  'Importer': 'Ariana Commodities'},\n",
       " '19': {'Name': 'Labrada Creatine',\n",
       "  'Flavour': 'Tangy Mango',\n",
       "  'Price': 2000,\n",
       "  'Quantity': 400,\n",
       "  'Importer': 'Bright Commodities'},\n",
       " '20': {'Name': 'One Science Creatine',\n",
       "  'Flavour': 'Pulpy Orange',\n",
       "  'Price': 1400,\n",
       "  'Quantity': 350,\n",
       "  'Importer': 'GMC Commodities'},\n",
       " '21': {'Name': 'ONN Preworkout',\n",
       "  'Flavour': 'Unflavoured',\n",
       "  'Price': 900,\n",
       "  'Quantity': 670,\n",
       "  'Importer': 'Ariana Commodities'},\n",
       " '22': {'Name': 'MB Preworkout',\n",
       "  'Flavour': 'Double Chocolate',\n",
       "  'Price': 2000,\n",
       "  'Quantity': 400,\n",
       "  'Importer': 'Bright Commodities'},\n",
       " '23': {'Name': 'UN Preworkout',\n",
       "  'Flavour': 'Juicy Watermelon',\n",
       "  'Price': 1500,\n",
       "  'Quantity': 350,\n",
       "  'Importer': 'GMC Commodities'},\n",
       " '24': {'Name': 'RC Preworkout',\n",
       "  'Flavour': 'Tangy Mango',\n",
       "  'Price': 1800,\n",
       "  'Quantity': 670,\n",
       "  'Importer': 'Ariana Commodities'},\n",
       " '25': {'Name': 'Universal Preworkout',\n",
       "  'Flavour': 'Rich Double Chocolate',\n",
       "  'Price': 1600,\n",
       "  'Quantity': 500,\n",
       "  'Importer': 'Bright Commodities'},\n",
       " '26': {'Name': 'MY Protein Preworkout',\n",
       "  'Flavour': 'Pulpy Orange',\n",
       "  'Price': 2400,\n",
       "  'Quantity': 1000,\n",
       "  'Importer': 'GMC'},\n",
       " '27': {'Name': 'Isopure Preworkout',\n",
       "  'Flavour': 'Rich Vanilla',\n",
       "  'Price': 3200,\n",
       "  'Quantity': 700,\n",
       "  'Importer': 'Ariana'},\n",
       " '28': {'Name': 'Zomato Preworkout',\n",
       "  'Flavour': 'Tangy Mango',\n",
       "  'Price': 2500,\n",
       "  'Quantity': 400,\n",
       "  'Importer': 'Bright Commodities'},\n",
       " '29': {'Name': 'Labrada Preworkout',\n",
       "  'Flavour': 'Juicy Watermelon',\n",
       "  'Price': 1000,\n",
       "  'Quantity': 350,\n",
       "  'Importer': 'GMC Commodities'},\n",
       " '30': {'Name': 'One Science Preworkout',\n",
       "  'Flavour': 'Unflavoured',\n",
       "  'Price': 900,\n",
       "  'Quantity': 670,\n",
       "  'Importer': 'Ariana Commodities'},\n",
       " '31': {'Name': 'ONN Glutamine',\n",
       "  'Flavour': 'Pulpy Orange',\n",
       "  'Price': 1200,\n",
       "  'Quantity': 400,\n",
       "  'Importer': 'Bright Commodities'},\n",
       " '32': {'Name': 'MB Glutamine',\n",
       "  'Flavour': 'Juicy Watermelon',\n",
       "  'Price': 1100,\n",
       "  'Quantity': 350,\n",
       "  'Importer': 'GMC Commodities'},\n",
       " '33': {'Name': 'UN Glutamine',\n",
       "  'Flavour': 'Unflavoured',\n",
       "  'Price': 800,\n",
       "  'Quantity': 670,\n",
       "  'Importer': 'Ariana Commodities'},\n",
       " '34': {'Name': 'RC Glutamine',\n",
       "  'Flavour': 'Double Chocolate',\n",
       "  'Price': 2000,\n",
       "  'Quantity': 400,\n",
       "  'Importer': 'Bright Commodities'},\n",
       " '35': {'Name': 'Universal Glutamine',\n",
       "  'Flavour': 'Juicy Watermelon',\n",
       "  'Price': 1560,\n",
       "  'Quantity': 350,\n",
       "  'Importer': 'GMC Commodities'},\n",
       " '36': {'Name': 'MY Protein Glutamine',\n",
       "  'Flavour': 'Unflavoured',\n",
       "  'Price': 1800,\n",
       "  'Quantity': 670,\n",
       "  'Importer': 'Ariana Commodities'},\n",
       " '37': {'Name': 'Isopure Glutamine',\n",
       "  'Flavour': 'Unflavoured',\n",
       "  'Price': 1600,\n",
       "  'Quantity': 670,\n",
       "  'Importer': 'Ariana Commodities'},\n",
       " '38': {'Name': 'Zomato Glutamine',\n",
       "  'Flavour': 'Pulpy Orange',\n",
       "  'Price': 2000,\n",
       "  'Quantity': 400,\n",
       "  'Importer': 'Bright Commodities'},\n",
       " '39': {'Name': 'Labrada Glutamine',\n",
       "  'Flavour': 'Juicy Watermelon',\n",
       "  'Price': 1500,\n",
       "  'Quantity': 350,\n",
       "  'Importer': 'GMC Commodities'},\n",
       " '40': {'Name': 'One Science Glutamine',\n",
       "  'Flavour': 'Unflavoured',\n",
       "  'Price': 700,\n",
       "  'Quantity': 670,\n",
       "  'Importer': 'Ariana Commodities'},\n",
       " '41': {'Name': 'ONN BCAA',\n",
       "  'Flavour': 'Tangy Mango',\n",
       "  'Price': 900,\n",
       "  'Quantity': 500,\n",
       "  'Importer': 'Bright Commodities'},\n",
       " '42': {'Name': 'MB BCAA',\n",
       "  'Flavour': 'Chocolate Creame',\n",
       "  'Price': 1400,\n",
       "  'Quantity': 1000,\n",
       "  'Importer': 'GMC'},\n",
       " '43': {'Name': 'UN BCAA',\n",
       "  'Flavour': 'Rich Vanilla',\n",
       "  'Price': 1600,\n",
       "  'Quantity': 700,\n",
       "  'Importer': 'Ariana'},\n",
       " '44': {'Name': 'RC BCAA',\n",
       "  'Flavour': 'Double Chocolate',\n",
       "  'Price': 2000,\n",
       "  'Quantity': 400,\n",
       "  'Importer': 'Bright Commodities'},\n",
       " '45': {'Name': 'Universal BCAA',\n",
       "  'Flavour': 'Juicy Watermelon',\n",
       "  'Price': 1500,\n",
       "  'Quantity': 350,\n",
       "  'Importer': 'GMC Commodities'},\n",
       " '46': {'Name': 'MY Protein BCAA',\n",
       "  'Flavour': 'Unflavoured',\n",
       "  'Price': 900,\n",
       "  'Quantity': 670,\n",
       "  'Importer': 'Ariana Commodities'},\n",
       " '47': {'Name': 'Isopure BCAA',\n",
       "  'Flavour': 'Pulpy Orange',\n",
       "  'Price': 1000,\n",
       "  'Quantity': 400,\n",
       "  'Importer': 'Bright Commodities'},\n",
       " '48': {'Name': 'Zomato BCAA',\n",
       "  'Flavour': 'Juicy Watermelon',\n",
       "  'Price': 1500,\n",
       "  'Quantity': 350,\n",
       "  'Importer': 'GMC Commodities'},\n",
       " '49': {'Name': 'Labrada BCAA',\n",
       "  'Flavour': 'Unflavoured',\n",
       "  'Price': 800,\n",
       "  'Quantity': 670,\n",
       "  'Importer': 'Ariana Commodities'},\n",
       " '50': {'Name': 'One Science BCAA',\n",
       "  'Flavour': 'Rich Double Chocolate',\n",
       "  'Price': 1800,\n",
       "  'Quantity': 400,\n",
       "  'Importer': 'Bright Commodities'},\n",
       " '51': {'Name': 'MuscleTech Preworkout',\n",
       "  'Flavour': 'Mango',\n",
       "  'Price': 1560,\n",
       "  'Quantity': 603,\n",
       "  'Importer': 'GMC'}}"
      ]
     },
     "execution_count": 6,
     "metadata": {},
     "output_type": "execute_result"
    }
   ],
   "source": [
    "records"
   ]
  },
  {
   "cell_type": "markdown",
   "metadata": {},
   "source": [
    "## Entering new product details\n"
   ]
  },
  {
   "cell_type": "code",
   "execution_count": 7,
   "metadata": {},
   "outputs": [
    {
     "name": "stdout",
     "output_type": "stream",
     "text": [
      "Enter product id:52\n",
      "Enter name:MuscleTech Whey Protein\n",
      "Enter flavour:Chocolate Creame\n",
      "Enter price:4500\n",
      "Enter quantity:413\n",
      "Enter importer:Ariana\n"
     ]
    }
   ],
   "source": [
    "prod_id = str(input(\"Enter product id:\"))\n",
    "name = str(input(\"Enter name:\"))\n",
    "flavour = str(input(\"Enter flavour:\"))\n",
    "price = int(input(\"Enter price:\"))\n",
    "quantity = int(input(\"Enter quantity:\"))\n",
    "importer = str(input(\"Enter importer:\"))"
   ]
  },
  {
   "cell_type": "markdown",
   "metadata": {},
   "source": [
    "## Appending the Dictonary\n"
   ]
  },
  {
   "cell_type": "code",
   "execution_count": 8,
   "metadata": {},
   "outputs": [],
   "source": [
    "records[prod_id] = {'Name': name, 'Flavour': flavour, 'Price': price, 'Quantity': quantity, 'Importer': importer}"
   ]
  },
  {
   "cell_type": "markdown",
   "metadata": {},
   "source": [
    "## Converting Dictonary back to string\n"
   ]
  },
  {
   "cell_type": "code",
   "execution_count": 9,
   "metadata": {},
   "outputs": [],
   "source": [
    "js = json.dumps(records)"
   ]
  },
  {
   "cell_type": "markdown",
   "metadata": {},
   "source": [
    "## Writing data back to original file\n"
   ]
  },
  {
   "cell_type": "code",
   "execution_count": 10,
   "metadata": {},
   "outputs": [],
   "source": [
    "fd = open(\"records.json\",'w')\n",
    "fd.write(js)\n",
    "fd.close()"
   ]
  },
  {
   "cell_type": "code",
   "execution_count": null,
   "metadata": {},
   "outputs": [],
   "source": []
  }
 ],
 "metadata": {
  "kernelspec": {
   "display_name": "Python 3",
   "language": "python",
   "name": "python3"
  },
  "language_info": {
   "codemirror_mode": {
    "name": "ipython",
    "version": 3
   },
   "file_extension": ".py",
   "mimetype": "text/x-python",
   "name": "python",
   "nbconvert_exporter": "python",
   "pygments_lexer": "ipython3",
   "version": "3.8.5"
  }
 },
 "nbformat": 4,
 "nbformat_minor": 4
}
